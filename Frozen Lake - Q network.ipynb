{
 "cells": [
  {
   "cell_type": "code",
   "execution_count": 1,
   "metadata": {},
   "outputs": [],
   "source": [
    "import gym\n",
    "import numpy as np\n",
    "import tensorflow as tf\n",
    "import random\n",
    "import time\n",
    "\n",
    "from IPython.display import clear_output\n",
    "import time"
   ]
  },
  {
   "cell_type": "code",
   "execution_count": 2,
   "metadata": {},
   "outputs": [
    {
     "name": "stdout",
     "output_type": "stream",
     "text": [
      "1.12.0\n"
     ]
    }
   ],
   "source": [
    "print(tf.__version__)"
   ]
  },
  {
   "cell_type": "code",
   "execution_count": 5,
   "metadata": {},
   "outputs": [
    {
     "data": {
      "text/plain": [
       "0"
      ]
     },
     "execution_count": 5,
     "metadata": {},
     "output_type": "execute_result"
    }
   ],
   "source": [
    "env = gym.make('FrozenLake-v0')\n",
    "env.reset()"
   ]
  },
  {
   "cell_type": "code",
   "execution_count": 6,
   "metadata": {},
   "outputs": [],
   "source": [
    "# Creating a neural network\n",
    "\n",
    "tf.reset_default_graph()\n",
    "\n",
    "with tf.variable_scope(\"model\"):\n",
    "    inputs = tf.placeholder(name=\"inputs\", shape=[None, env.observation_space.n], dtype=tf.float32)\n",
    "    W = tf.get_variable(name=\"W\", shape=[env.observation_space.n, env.action_space.n], dtype=tf.float32,\n",
    "                       initializer=tf.contrib.layers.xavier_initializer())\n",
    "    b = tf.get_variable(name=\"b\", initializer=tf.zeros(shape=[env.action_space.n]), dtype=tf.float32)\n",
    "    \n",
    "q_pred = tf.add(tf.matmul(inputs, W), b)\n",
    "a_pred = tf.argmax(q_pred, axis=1)\n",
    "\n",
    "q_target = tf.placeholder(shape=[1, env.action_space.n], dtype=tf.float32)\n",
    "loss = tf.reduce_sum(tf.square(q_target - q_pred))\n",
    "\n",
    "train = tf.train.AdamOptimizer(learning_rate=0.001)\n",
    "minimizer = train.minimize(loss)"
   ]
  },
  {
   "cell_type": "code",
   "execution_count": 9,
   "metadata": {},
   "outputs": [
    {
     "name": "stdout",
     "output_type": "stream",
     "text": [
      "Output after learning\n",
      "\n",
      "\u001b[41mS\u001b[0mFFF\n",
      "FHFH\n",
      "FFFH\n",
      "HFFG\n",
      "====================\n",
      "  (Down)\n",
      "\u001b[41mS\u001b[0mFFF\n",
      "FHFH\n",
      "FFFH\n",
      "HFFG\n",
      "====================\n",
      "  (Down)\n",
      "S\u001b[41mF\u001b[0mFF\n",
      "FHFH\n",
      "FFFH\n",
      "HFFG\n",
      "====================\n",
      "  (Right)\n",
      "SFFF\n",
      "F\u001b[41mH\u001b[0mFH\n",
      "FFFH\n",
      "HFFG\n"
     ]
    }
   ],
   "source": [
    "# Training the neural network\n",
    "\n",
    "init = tf.global_variables_initializer()\n",
    "\n",
    "discount = 0.9\n",
    "epsilon = 0.1\n",
    "episodes = 1000\n",
    "\n",
    "with tf.Session() as sess:\n",
    "    sess.run(init)\n",
    "    \n",
    "    for i in range(episodes):\n",
    "        s = env.reset()\n",
    "        total_rewards = 0\n",
    "        \n",
    "        while True:\n",
    "            pred_a, pred_q = sess.run([a_pred, q_pred], \n",
    "                                      feed_dict={inputs: np.identity(env.observation_space.n)[s: s+1]})\n",
    "            \n",
    "            if np.random.uniform(0, 1) < epsilon:\n",
    "                pred_a[0] = env.action_space.sample()\n",
    "                \n",
    "            new_state, reward, done, info = env.step(pred_a[0])\n",
    "\n",
    "            if reward == 0:\n",
    "                if done == True:\n",
    "                    reward = -5\n",
    "                else:\n",
    "                    reward = -1\n",
    "\n",
    "            if reward:\n",
    "                reward = 10\n",
    "            \n",
    "            pred_q_new = sess.run(q_pred, \n",
    "                                feed_dict={inputs:np.identity(env.observation_space.n)[new_state:new_state+1]})\n",
    "            \n",
    "            target_q = pred_q\n",
    "            max_q_pred = np.max(pred_q_new)\n",
    "            target_q[0, pred_a[0]] = reward + discount * max_q_pred\n",
    "            \n",
    "            sess.run(minimizer, feed_dict={\n",
    "                inputs: np.identity(env.observation_space.n)[s: s+1], q_target: target_q})\n",
    "            s = new_state\n",
    "            \n",
    "            if done:\n",
    "                break\n",
    "    \n",
    "    tf.summary.FileWriter(\"logs/q_network\", sess.graph)\n",
    "    print(\"Output after learning\")\n",
    "    s = env.reset()\n",
    "    env.render()\n",
    "    \n",
    "    while True:\n",
    "        a = sess.run(a_pred, feed_dict={inputs: np.identity(env.observation_space.n)[s: s+1]})\n",
    "        new_state, reward, done, info = env.step(a[0])\n",
    "        print(\"=\" * 20)\n",
    "        env.render()\n",
    "        s = new_state\n",
    "        \n",
    "        if done:\n",
    "            break"
   ]
  }
 ],
 "metadata": {
  "kernelspec": {
   "display_name": "Python 3",
   "language": "python",
   "name": "python3"
  },
  "language_info": {
   "codemirror_mode": {
    "name": "ipython",
    "version": 3
   },
   "file_extension": ".py",
   "mimetype": "text/x-python",
   "name": "python",
   "nbconvert_exporter": "python",
   "pygments_lexer": "ipython3",
   "version": "3.6.8"
  }
 },
 "nbformat": 4,
 "nbformat_minor": 2
}
