{
 "cells": [
  {
   "cell_type": "code",
   "execution_count": 1,
   "metadata": {},
   "outputs": [],
   "source": [
    "import tensorflow as tf\n",
    "import numpy as np"
   ]
  },
  {
   "cell_type": "code",
   "execution_count": 15,
   "metadata": {},
   "outputs": [
    {
     "name": "stdout",
     "output_type": "stream",
     "text": [
      "1.12.0\n"
     ]
    }
   ],
   "source": [
    "print(tf.__version__)"
   ]
  },
  {
   "cell_type": "code",
   "execution_count": 3,
   "metadata": {},
   "outputs": [
    {
     "name": "stdout",
     "output_type": "stream",
     "text": [
      "<tf.Variable 'height:0' shape=() dtype=int32_ref>\n",
      "<tf.Variable 'width:0' shape=() dtype=int32_ref>\n"
     ]
    }
   ],
   "source": [
    "# Inputs\n",
    "\n",
    "height = tf.get_variable(name=\"height\", dtype=tf.int32, initializer=tf.constant(5))\n",
    "width = tf.get_variable(name=\"width\", dtype=tf.int32, initializer=tf.constant(10))\n",
    "\n",
    "print(height)\n",
    "print(width)"
   ]
  },
  {
   "cell_type": "code",
   "execution_count": 4,
   "metadata": {},
   "outputs": [
    {
     "name": "stdout",
     "output_type": "stream",
     "text": [
      "Tensor(\"Mul:0\", shape=(), dtype=int32)\n"
     ]
    }
   ],
   "source": [
    "area = tf.multiply(height, width)\n",
    "print(area)"
   ]
  },
  {
   "cell_type": "code",
   "execution_count": 5,
   "metadata": {},
   "outputs": [
    {
     "name": "stdout",
     "output_type": "stream",
     "text": [
      "50\n"
     ]
    }
   ],
   "source": [
    "with tf.Session() as sess:\n",
    "    sess.run(tf.global_variables_initializer())\n",
    "    result = sess.run(area)\n",
    "    writer = tf.summary.FileWriter(\"logs\", sess.graph)\n",
    "    print(result)"
   ]
  },
  {
   "cell_type": "code",
   "execution_count": 9,
   "metadata": {},
   "outputs": [],
   "source": [
    "def add_two_tensors(x, y, name=\"add1\"):\n",
    "    with tf.variable_scope(name):\n",
    "        x = tf.get_variable(name=str(x), initializer=tf.constant(x))\n",
    "        y = tf.get_variable(name=str(y), initializer=tf.constant(y))\n",
    "        add = tf.add(x, y)\n",
    "    return add"
   ]
  },
  {
   "cell_type": "code",
   "execution_count": 14,
   "metadata": {},
   "outputs": [
    {
     "name": "stdout",
     "output_type": "stream",
     "text": [
      "12\n"
     ]
    }
   ],
   "source": [
    "tf.reset_default_graph()\n",
    "\n",
    "with tf.Session() as sess:\n",
    "    result = add_two_tensors(10, 2)\n",
    "    sess.run(tf.global_variables_initializer())\n",
    "    result = sess.run(result)\n",
    "    writer = tf.summary.FileWriter(\"logs/add_two_tensors\", sess.graph)\n",
    "    print(result)"
   ]
  },
  {
   "cell_type": "code",
   "execution_count": 66,
   "metadata": {},
   "outputs": [
    {
     "name": "stdout",
     "output_type": "stream",
     "text": [
      "Tensor(\"multiplication/E:0\", dtype=int32)\n"
     ]
    }
   ],
   "source": [
    "tf.reset_default_graph()\n",
    "with tf.variable_scope(\"multiplication\"):\n",
    "    A1 = tf.placeholder(dtype=tf.int32, name=\"A\")\n",
    "    B = tf.constant(5, name=\"B\")\n",
    "    C = tf.multiply(A1, B, name=\"C\")\n",
    "    D = tf.constant(10, name=\"D\")\n",
    "    E1 = tf.add(C, D, name=\"E\")\n",
    "\n",
    "print(E1)"
   ]
  },
  {
   "cell_type": "code",
   "execution_count": 67,
   "metadata": {},
   "outputs": [
    {
     "name": "stdout",
     "output_type": "stream",
     "text": [
      "Tensor(\"division/E:0\", dtype=int32)\n"
     ]
    }
   ],
   "source": [
    "with tf.variable_scope(\"division\"):\n",
    "    A2 = tf.placeholder(dtype=tf.int32, name=\"A\")\n",
    "    B = tf.constant(5, name=\"B\")\n",
    "    C = tf.floordiv(A2, B, name=\"C\")\n",
    "    D = tf.constant(10, name=\"D\")\n",
    "    E2 = tf.add(C, D, name=\"E\")\n",
    "\n",
    "print(E2)"
   ]
  },
  {
   "cell_type": "code",
   "execution_count": 68,
   "metadata": {},
   "outputs": [],
   "source": [
    "with tf.variable_scope(\"final\"):\n",
    "    with tf.Session() as sess:\n",
    "        result = E1 + E2\n",
    "        sess.run(result, feed_dict={A1: 2, A2: 10})\n",
    "        tf.summary.FileWriter(\"logs/operations\", sess.graph)"
   ]
  },
  {
   "cell_type": "code",
   "execution_count": 2,
   "metadata": {},
   "outputs": [],
   "source": [
    "A = np.array([[1, 2], [3, 4]])"
   ]
  },
  {
   "cell_type": "code",
   "execution_count": 5,
   "metadata": {},
   "outputs": [
    {
     "name": "stdout",
     "output_type": "stream",
     "text": [
      "[1 2 3 4]\n"
     ]
    }
   ],
   "source": [
    "B = A.flatten()\n",
    "print(B)"
   ]
  },
  {
   "cell_type": "code",
   "execution_count": 6,
   "metadata": {},
   "outputs": [
    {
     "name": "stdout",
     "output_type": "stream",
     "text": [
      "[[1 2]\n",
      " [3 4]]\n"
     ]
    }
   ],
   "source": [
    "C = B.reshape(2, 2)\n",
    "print(C)"
   ]
  },
  {
   "cell_type": "code",
   "execution_count": 7,
   "metadata": {},
   "outputs": [
    {
     "name": "stdout",
     "output_type": "stream",
     "text": [
      "[[1 2 3 4]]\n"
     ]
    }
   ],
   "source": [
    "D = C.reshape(1, 4)\n",
    "print(D)"
   ]
  },
  {
   "cell_type": "code",
   "execution_count": 8,
   "metadata": {},
   "outputs": [
    {
     "data": {
      "text/plain": [
       "array([[1],\n",
       "       [2],\n",
       "       [3],\n",
       "       [4]])"
      ]
     },
     "execution_count": 8,
     "metadata": {},
     "output_type": "execute_result"
    }
   ],
   "source": [
    "E = D.reshape(4, 1)\n",
    "E"
   ]
  }
 ],
 "metadata": {
  "kernelspec": {
   "display_name": "Python 3",
   "language": "python",
   "name": "python3"
  },
  "language_info": {
   "codemirror_mode": {
    "name": "ipython",
    "version": 3
   },
   "file_extension": ".py",
   "mimetype": "text/x-python",
   "name": "python",
   "nbconvert_exporter": "python",
   "pygments_lexer": "ipython3",
   "version": "3.6.8"
  }
 },
 "nbformat": 4,
 "nbformat_minor": 2
}
