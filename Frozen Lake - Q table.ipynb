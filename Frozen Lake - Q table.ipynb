{
 "cells": [
  {
   "cell_type": "code",
   "execution_count": 1,
   "metadata": {},
   "outputs": [],
   "source": [
    "import gym\n",
    "import numpy as np\n",
    "import time\n",
    "\n",
    "from IPython.display import clear_output"
   ]
  },
  {
   "cell_type": "code",
   "execution_count": 2,
   "metadata": {},
   "outputs": [
    {
     "data": {
      "text/plain": [
       "0"
      ]
     },
     "execution_count": 2,
     "metadata": {},
     "output_type": "execute_result"
    }
   ],
   "source": [
    "env = gym.make('FrozenLake-v0', is_slippery=True)\n",
    "env.reset()"
   ]
  },
  {
   "cell_type": "code",
   "execution_count": 3,
   "metadata": {},
   "outputs": [
    {
     "name": "stdout",
     "output_type": "stream",
     "text": [
      "\n",
      "\u001b[41mS\u001b[0mFFF\n",
      "FHFH\n",
      "FFFH\n",
      "HFFG\n"
     ]
    }
   ],
   "source": [
    "env.render()"
   ]
  },
  {
   "cell_type": "code",
   "execution_count": 4,
   "metadata": {},
   "outputs": [
    {
     "name": "stdout",
     "output_type": "stream",
     "text": [
      "16\n",
      "4\n"
     ]
    }
   ],
   "source": [
    "print(env.observation_space.n)\n",
    "print(env.action_space.n)"
   ]
  },
  {
   "cell_type": "code",
   "execution_count": 5,
   "metadata": {},
   "outputs": [
    {
     "name": "stdout",
     "output_type": "stream",
     "text": [
      "  (Left)\n",
      "SFFF\n",
      "\u001b[41mF\u001b[0mHFH\n",
      "FFFH\n",
      "HFFG\n",
      "observation: 4\n",
      "reward: 0.0\n",
      "done: False\n",
      "info: {'prob': 0.3333333333333333}\n",
      "  (Right)\n",
      "SFFF\n",
      "FHFH\n",
      "\u001b[41mF\u001b[0mFFH\n",
      "HFFG\n",
      "observation: 8\n",
      "reward: 0.0\n",
      "done: False\n",
      "info: {'prob': 0.3333333333333333}\n",
      "  (Up)\n",
      "SFFF\n",
      "FHFH\n",
      "\u001b[41mF\u001b[0mFFH\n",
      "HFFG\n",
      "observation: 8\n",
      "reward: 0.0\n",
      "done: False\n",
      "info: {'prob': 0.3333333333333333}\n",
      "  (Up)\n",
      "SFFF\n",
      "FHFH\n",
      "\u001b[41mF\u001b[0mFFH\n",
      "HFFG\n",
      "observation: 8\n",
      "reward: 0.0\n",
      "done: False\n",
      "info: {'prob': 0.3333333333333333}\n",
      "  (Right)\n",
      "SFFF\n",
      "FHFH\n",
      "F\u001b[41mF\u001b[0mFH\n",
      "HFFG\n",
      "observation: 9\n",
      "reward: 0.0\n",
      "done: False\n",
      "info: {'prob': 0.3333333333333333}\n",
      "  (Left)\n",
      "SFFF\n",
      "FHFH\n",
      "FFFH\n",
      "H\u001b[41mF\u001b[0mFG\n",
      "observation: 13\n",
      "reward: 0.0\n",
      "done: False\n",
      "info: {'prob': 0.3333333333333333}\n",
      "  (Up)\n",
      "SFFF\n",
      "FHFH\n",
      "F\u001b[41mF\u001b[0mFH\n",
      "HFFG\n",
      "observation: 9\n",
      "reward: 0.0\n",
      "done: False\n",
      "info: {'prob': 0.3333333333333333}\n",
      "  (Up)\n",
      "SFFF\n",
      "FHFH\n",
      "FF\u001b[41mF\u001b[0mH\n",
      "HFFG\n",
      "observation: 10\n",
      "reward: 0.0\n",
      "done: False\n",
      "info: {'prob': 0.3333333333333333}\n",
      "  (Down)\n",
      "SFFF\n",
      "FHFH\n",
      "FFF\u001b[41mH\u001b[0m\n",
      "HFFG\n",
      "observation: 11\n",
      "reward: 0.0\n",
      "done: True\n",
      "info: {'prob': 0.3333333333333333}\n"
     ]
    }
   ],
   "source": [
    "env.reset()\n",
    "\n",
    "while True:\n",
    "    action = np.random.randint(0, 4)\n",
    "    observation, reward, done, info = env.step(action)\n",
    "    env.render()\n",
    "    print('observation:', observation)\n",
    "    print('reward:', reward)\n",
    "    print('done:', done)\n",
    "    print('info:', info)\n",
    "    if done:\n",
    "        break\n",
    "\n",
    "env.close()"
   ]
  },
  {
   "cell_type": "code",
   "execution_count": 6,
   "metadata": {},
   "outputs": [
    {
     "name": "stdout",
     "output_type": "stream",
     "text": [
      "[[0. 0. 0. 0.]\n",
      " [0. 0. 0. 0.]\n",
      " [0. 0. 0. 0.]\n",
      " [0. 0. 0. 0.]\n",
      " [0. 0. 0. 0.]\n",
      " [0. 0. 0. 0.]\n",
      " [0. 0. 0. 0.]\n",
      " [0. 0. 0. 0.]\n",
      " [0. 0. 0. 0.]\n",
      " [0. 0. 0. 0.]\n",
      " [0. 0. 0. 0.]\n",
      " [0. 0. 0. 0.]\n",
      " [0. 0. 0. 0.]\n",
      " [0. 0. 0. 0.]\n",
      " [0. 0. 0. 0.]\n",
      " [0. 0. 0. 0.]]\n"
     ]
    }
   ],
   "source": [
    "q_table = np.zeros([env.observation_space.n, env.action_space.n])\n",
    "print(q_table)"
   ]
  },
  {
   "cell_type": "code",
   "execution_count": 7,
   "metadata": {},
   "outputs": [],
   "source": [
    "episodes = 5000\n",
    "learning_rate = 0.03\n",
    "discount = 0.9\n",
    "\n",
    "done = False\n",
    "\n",
    "for episode in range(episodes):\n",
    "    state = env.reset()\n",
    "    \n",
    "    while True:\n",
    "        action = np.argmax(q_table[state, :] + np.random.randn(1, 4))\n",
    "        new_state, reward, done, info = env.step(action)\n",
    "        q_table[state, action] = (1 - learning_rate) * q_table[state, action] + learning_rate * (reward + discount * np.max(q_table[new_state, :]))\n",
    "        state = new_state\n",
    "        \n",
    "        if done:\n",
    "            break        "
   ]
  },
  {
   "cell_type": "code",
   "execution_count": 8,
   "metadata": {},
   "outputs": [
    {
     "name": "stdout",
     "output_type": "stream",
     "text": [
      "\n",
      "\u001b[41mS\u001b[0mFFF\n",
      "FHFH\n",
      "FFFH\n",
      "HFFG\n",
      "np.argmax: [1 3 0 3 0 0 0 0 2 1 1 0 0 2 1 0]\n",
      "np.around [[0.019969 0.02022  0.01985  0.018249]\n",
      " [0.012562 0.016511 0.015722 0.021249]\n",
      " [0.03118  0.027749 0.029917 0.01848 ]\n",
      " [0.01226  0.010771 0.008161 0.015418]\n",
      " [0.027105 0.018118 0.020492 0.011667]\n",
      " [0.       0.       0.       0.      ]\n",
      " [0.057844 0.036524 0.041582 0.007468]\n",
      " [0.       0.       0.       0.      ]\n",
      " [0.018903 0.040991 0.043734 0.042816]\n",
      " [0.047592 0.091284 0.088977 0.049129]\n",
      " [0.127887 0.161828 0.156688 0.026427]\n",
      " [0.       0.       0.       0.      ]\n",
      " [0.       0.       0.       0.      ]\n",
      " [0.044166 0.132841 0.159771 0.079307]\n",
      " [0.132958 0.465988 0.390315 0.452926]\n",
      " [0.       0.       0.       0.      ]]\n"
     ]
    }
   ],
   "source": [
    "env.reset()\n",
    "env.render()\n",
    "\n",
    "print('np.argmax:', np.argmax(q_table, axis=1))\n",
    "print('np.around', np.around(q_table, 6))"
   ]
  },
  {
   "cell_type": "code",
   "execution_count": 9,
   "metadata": {},
   "outputs": [
    {
     "name": "stdout",
     "output_type": "stream",
     "text": [
      "**********\n",
      "Episode: 10\n",
      "Step 22\n",
      "Result 2/9\n",
      "  (Down)\n",
      "SFFF\n",
      "FHFH\n",
      "FFF\u001b[41mH\u001b[0m\n",
      "HFFG\n",
      "You fell in the hole\n",
      "Percentage of winning is 20.0%\n"
     ]
    }
   ],
   "source": [
    "episodes = 10\n",
    "max_steps = 200\n",
    "won = 0\n",
    "\n",
    "for episode in range(episodes):\n",
    "    clear_output(wait=True)\n",
    "    state = env.reset()\n",
    "    done = False\n",
    "    \n",
    "    for step in range(max_steps):\n",
    "        clear_output(wait=True)\n",
    "        \n",
    "        action = np.argmax(q_table[state])\n",
    "        new_state, reward, done, _ = env.step(action)\n",
    "        print(\"*\" * 10)\n",
    "        print(f\"Episode: {episode+1}\")\n",
    "        print(f\"Step {step+1}\")\n",
    "        print(f\"Result {won}/{episode}\")\n",
    "        env.render()\n",
    "        time.sleep(0.2)\n",
    "        state = new_state\n",
    "        \n",
    "        if reward:\n",
    "            won += 1\n",
    "            print(\"You reached the goal\")\n",
    "            break\n",
    "        \n",
    "        if done and not reward:\n",
    "            print(\"You fell in the hole\")\n",
    "            break\n",
    "        \n",
    "    else:\n",
    "        print(f\"Maximum step ({max_steps}) limit reached.\")\n",
    "        \n",
    "    time.sleep(2)\n",
    "#     clear_output(wait=True)\n",
    "\n",
    "print(f\"Percentage of winning is {(won / episodes) * 100}%\")\n",
    "env.close()"
   ]
  }
 ],
 "metadata": {
  "kernelspec": {
   "display_name": "Python 3",
   "language": "python",
   "name": "python3"
  },
  "language_info": {
   "codemirror_mode": {
    "name": "ipython",
    "version": 3
   },
   "file_extension": ".py",
   "mimetype": "text/x-python",
   "name": "python",
   "nbconvert_exporter": "python",
   "pygments_lexer": "ipython3",
   "version": "3.6.8"
  }
 },
 "nbformat": 4,
 "nbformat_minor": 2
}
