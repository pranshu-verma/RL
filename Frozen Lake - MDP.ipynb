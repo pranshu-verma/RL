{
 "cells": [
  {
   "cell_type": "code",
   "execution_count": 1,
   "metadata": {},
   "outputs": [],
   "source": [
    "import gym\n",
    "import time\n",
    "import numpy as np\n",
    "\n",
    "from IPython.display import clear_output"
   ]
  },
  {
   "cell_type": "code",
   "execution_count": 172,
   "metadata": {},
   "outputs": [
    {
     "name": "stdout",
     "output_type": "stream",
     "text": [
      "\n",
      "\u001b[41mS\u001b[0mFFF\n",
      "FHFH\n",
      "FFFH\n",
      "HFFG\n"
     ]
    }
   ],
   "source": [
    "env = gym.make('FrozenLake-v0', is_slippery=True)\n",
    "env.reset()\n",
    "env.render()"
   ]
  },
  {
   "cell_type": "code",
   "execution_count": 173,
   "metadata": {},
   "outputs": [
    {
     "name": "stdout",
     "output_type": "stream",
     "text": [
      "4\n",
      "16\n"
     ]
    }
   ],
   "source": [
    "print(env.action_space.n)\n",
    "print(env.observation_space.n)"
   ]
  },
  {
   "cell_type": "code",
   "execution_count": 174,
   "metadata": {},
   "outputs": [
    {
     "name": "stdout",
     "output_type": "stream",
     "text": [
      "Probability, Next state, Reward, Done for State 0 and Action 0: \n",
      " [(0.3333333333333333, 0, 0.0, False), (0.3333333333333333, 0, 0.0, False), (0.3333333333333333, 4, 0.0, False)]\n"
     ]
    }
   ],
   "source": [
    "state_probability = env.env.P\n",
    "\n",
    "state = 0\n",
    "action = 0\n",
    "\n",
    "print(\"Probability, Next state, Reward, Done for State {} and Action {}: \\n {}\"\n",
    "      .format(state, action, state_probability[state][action]))\n",
    "\n"
   ]
  },
  {
   "cell_type": "code",
   "execution_count": 6,
   "metadata": {},
   "outputs": [],
   "source": [
    "class RandomAgent:\n",
    "    def __init__(self, env):\n",
    "        self.action_space = env.action_space\n",
    "        self.observation_space = env.observation_space\n",
    "    \n",
    "    def choose_action(self):\n",
    "        return self.action_space.sample()"
   ]
  },
  {
   "cell_type": "code",
   "execution_count": 189,
   "metadata": {},
   "outputs": [],
   "source": [
    "class ProAgent:\n",
    "    def __init__(self, env, discount):\n",
    "        self.discount = discount\n",
    "        self.state_probability = env.env.P\n",
    "        self.num_states = env.observation_space.n\n",
    "        self.num_actions = env.action_space.n\n",
    "\n",
    "        self.values = np.zeros(env.observation_space.n)\n",
    "        self.policy = np.zeros(env.observation_space.n)\n",
    "        self.best_actions = []\n",
    "        \n",
    "    def value_iteration(self, num_episodes=1000, debug=False):\n",
    "        for episode in range(num_episodes):\n",
    "            self.best_actions = []\n",
    "            if debug:\n",
    "                print(\"*\" * 50)\n",
    "                print(f\"Episode {episode+1}\")\n",
    "            prev_values = np.copy(self.values)\n",
    "            \n",
    "            for state in range(self.num_states):\n",
    "                if debug:\n",
    "                    print(\"_\" * 20)\n",
    "                    print(f\"state {state}\")\n",
    "                Q_value = []\n",
    "                \n",
    "                for action in range(self.num_actions):\n",
    "                    rewards = []\n",
    "                    \n",
    "                    if debug:\n",
    "                        print(f\"action: {action}\")\n",
    "                        \n",
    "                    for transition_probability, next_state, reward, done in env.env.P[state][action]:\n",
    "                        q_sa = transition_probability * (reward + self.discount * prev_values[next_state])\n",
    "                        rewards.append((q_sa))\n",
    "                        if debug:\n",
    "                            print(f\"rewards: {rewards}\")\n",
    "                        \n",
    "                    Q_value.append(np.sum(rewards))\n",
    "                    if debug:\n",
    "                        print(f\"Q_value: {Q_value}\")\n",
    "                \n",
    "                self.values[state] = np.max(Q_value)\n",
    "                action = np.argmax(Q_value)\n",
    "                self.best_actions.append(action)\n",
    "                \n",
    "                if debug:\n",
    "                    print(f\"self.values[{state}]: {np.max(Q_value)}\")\n",
    "                    print(f\"Best action is {action}\")\n",
    "            if debug:\n",
    "                print(f\"self.values: {self.values}\")\n",
    "                print(f\"best_actions: {self.best_actions}\")\n",
    "            \n",
    "        return self.values\n",
    "\n",
    "            \n",
    "    def choose_action(self, state):\n",
    "        return self.best_actions[state]\n"
   ]
  },
  {
   "cell_type": "code",
   "execution_count": 191,
   "metadata": {},
   "outputs": [
    {
     "name": "stdout",
     "output_type": "stream",
     "text": [
      "Winning percentage: 73.0%\n"
     ]
    }
   ],
   "source": [
    "discount = 0.9\n",
    "\n",
    "agent = ProAgent(env, discount)\n",
    "\n",
    "agent.value_iteration()\n",
    "\n",
    "won = 0\n",
    "episodes = 100\n",
    "\n",
    "for episode in range(episodes):\n",
    "    state = env.reset()\n",
    "    \n",
    "    while True:\n",
    "        action = agent.choose_action(state)\n",
    "        state, reward, done, info = env.step(action)\n",
    "        if done:\n",
    "            if reward:\n",
    "                won += 1\n",
    "            break\n",
    "\n",
    "print(\"Winning percentage: {}%\".format((won/episodes) * 100))"
   ]
  }
 ],
 "metadata": {
  "kernelspec": {
   "display_name": "Python 3",
   "language": "python",
   "name": "python3"
  },
  "language_info": {
   "codemirror_mode": {
    "name": "ipython",
    "version": 3
   },
   "file_extension": ".py",
   "mimetype": "text/x-python",
   "name": "python",
   "nbconvert_exporter": "python",
   "pygments_lexer": "ipython3",
   "version": "3.6.8"
  }
 },
 "nbformat": 4,
 "nbformat_minor": 2
}
