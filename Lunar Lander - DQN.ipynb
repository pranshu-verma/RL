{
 "cells": [
  {
   "cell_type": "code",
   "execution_count": 1,
   "metadata": {},
   "outputs": [],
   "source": [
    "import os\n",
    "import tensorflow as tf\n",
    "import numpy as np"
   ]
  },
  {
   "cell_type": "code",
   "execution_count": 2,
   "metadata": {},
   "outputs": [],
   "source": [
    "class DQN:\n",
    "    def __init__(self, learning_rate, num_actions, name, input_dims, \n",
    "                 fc1_dims=256, fc2_dims=256, chkpt_dir='tmp/dqn'):\n",
    "        self.learning_rate = learning_rate\n",
    "        self.num_actions = num_actions\n",
    "        self.name = name\n",
    "        self.input_dims = input_dims\n",
    "        self.fc1_dims = fc1_dims\n",
    "        self.fc2_dims = fc2_dims\n",
    "        self.chkpt_dir = chkpt_dir\n",
    "        self.sess = tf.Session()\n",
    "        self.build_network()\n",
    "        self.sess.run(tf.global_variables_initializer())\n",
    "        self.saver = tf.train.Saver()\n",
    "        self.checkpoint_file = os.path.join(chkpt_dir, 'dqn.ckpt')\n",
    "    \n",
    "    def build_network(self):\n",
    "        with tf.variable_scope(self.name):\n",
    "            self.input = tf.placeholder(tf.float32, shape=[None, self.input_dims], name=\"inputs\")\n",
    "            self.actions = tf.placeholder(tf.float32, shape=[None, self.num_actions], name=\"actions\")\n",
    "            self.q_target = tf.placeholder(tf.float32, shape=[None, self.num_actions], name=\"q_target\")\n",
    "            \n",
    "            flatten = tf.layers.flatten(self.input)\n",
    "            dense_1 = tf.layers.dense(flatten, units=self.fc1_dims, activation=tf.nn.relu)\n",
    "            dense_2 = tf.layers.dense(dense_1, units=self.fc2_dims, activation=tf.nn.relu)\n",
    "            self.q_values = tf.layers.dense(dense_2, units=self.num_actions)\n",
    "            self.loss = tf.reduce_mean(tf.square(self.q_values - self.q_target))\n",
    "            self.train_op = tf.train.AdamOptimizer(self.learning_rate_rate).minimize(self.loss)\n",
    "    \n",
    "    def load_checkpoint(self):\n",
    "        print(\"... Loading Checkpoint ...\")\n",
    "        self.saver.restore(self.sess, self.checkpoint_file)\n",
    "        \n",
    "    def save_checkpoint(self):\n",
    "        self.saver.save(self.sess, self.checkpoint_file)       "
   ]
  },
  {
   "cell_type": "code",
   "execution_count": null,
   "metadata": {},
   "outputs": [],
   "source": [
    "class Agent:\n",
    "    def __init__(self, learning_rate, discount, memory_size, num_actions, epsilon, batch_size, input_dims, epsilon_start=0.99, epsilon_end=0.01, q_dir='tmp/q'):\n",
    "        self.action_space = [i for i in range(num_actions)]\n",
    "        self.num_actions = num_actions\n",
    "        self.discount = discount\n",
    "        self.memory_size = memory_size\n",
    "        self.memory_counter = 0\n",
    "        self.epsilon = epsilon\n",
    "        self.epsilon_start = epsilon_start\n",
    "        self.epsilon_end = epsilon_end\n",
    "        self.batch_size = batch_size\n",
    "        self.q_eval = DQN(learning_rate, num_actions, input_dims, name='q_eval', chkpt_dir=q_dir)\n",
    "        self.state_memory = np.zeros((self.memory_size, *input_dims))\n",
    "        self.new_state_memory = np.zeros((self.memory_size, *input_dims))\n",
    "        self.action_memory = np.zeros((self.memory_size, self.num_actions), dtype=np.int8)\n",
    "        self.reward_memory = np.zeros(self.memory_size)\n",
    "        self.terminal_memory = np.zeros(self.memory_size, dtype=np.int8)\n",
    "    \n",
    "    def store_transition(self, state, action, reward, new_state, terminal):\n",
    "        index = self.memory_counter % self.memory_size\n",
    "        self.state_memory[index] = state\n",
    "        self.new_state_memory[index] = new_state\n",
    "        self.reward_memory[index] = reward\n",
    "        actions = np.zeros(self.num_actions)\n",
    "        actions[action] = 1.0\n",
    "        self.action_memory[index] = actions\n",
    "        self.terminal_memory = 1 - terminal"
   ]
  }
 ],
 "metadata": {
  "kernelspec": {
   "display_name": "Python 3",
   "language": "python",
   "name": "python3"
  },
  "language_info": {
   "codemirror_mode": {
    "name": "ipython",
    "version": 3
   },
   "file_extension": ".py",
   "mimetype": "text/x-python",
   "name": "python",
   "nbconvert_exporter": "python",
   "pygments_lexer": "ipython3",
   "version": "3.6.8"
  }
 },
 "nbformat": 4,
 "nbformat_minor": 2
}
